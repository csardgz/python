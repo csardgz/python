{
 "cells": [
  {
   "cell_type": "code",
   "execution_count": null,
   "metadata": {},
   "outputs": [],
   "source": [
    "\n"
   ]
  },
  {
   "cell_type": "code",
   "execution_count": 1,
   "metadata": {},
   "outputs": [],
   "source": [
    "usuarios = [\n",
    "    { \"id\": 0, \"nombre\": \"Hero\" },\n",
    "    { \"id\": 1, \"nombre\": \"Dunn\" },\n",
    "    { \"id\": 2, \"nombre\": \"Sue\" },\n",
    "    { \"id\": 3, \"nombre\": \"Chi\" },\n",
    "    { \"id\": 4, \"nombre\": \"Thor\" },\n",
    "    { \"id\": 5, \"nombre\": \"Clive\" },\n",
    "    { \"id\": 6, \"nombre\": \"Hicks\" },\n",
    "    { \"id\": 7, \"nombre\": \"Devin\" },\n",
    "    { \"id\": 8, \"nombre\": \"Kate\" },\n",
    "    { \"id\": 9, \"nombre\": \"sss\" }\n",
    "]\n",
    "amistades_pares = [(0, 1), (0, 2), (1, 2), (1, 3), (2, 3), (3, 4),\n",
    "                    (4, 5), (5, 6), (5, 7), (6, 8), (7, 8), (8, 9)]"
   ]
  },
  {
   "cell_type": "code",
   "execution_count": 2,
   "metadata": {},
   "outputs": [],
   "source": [
    "a_p_dict = {usuarios['id']: [] for usuarios in usuarios}\n",
    "for i,j in amistades_pares:\n",
    "    a_p_dict[i].append(j)\n",
    "    a_p_dict[j].append(i)\n"
   ]
  },
  {
   "cell_type": "code",
   "execution_count": 3,
   "metadata": {},
   "outputs": [
    {
     "name": "stdout",
     "output_type": "stream",
     "text": [
      " Hero es amigo de:\n",
      "Dunn\n",
      "Sue\n",
      " Dunn es amigo de:\n",
      "Hero\n",
      "Sue\n",
      "Chi\n",
      " Sue es amigo de:\n",
      "Hero\n",
      "Dunn\n",
      "Chi\n",
      " Chi es amigo de:\n",
      "Dunn\n",
      "Sue\n",
      "Thor\n",
      " Thor es amigo de:\n",
      "Chi\n",
      "Clive\n",
      " Clive es amigo de:\n",
      "Thor\n",
      "Hicks\n",
      "Devin\n",
      " Hicks es amigo de:\n",
      "Clive\n",
      "Kate\n",
      " Devin es amigo de:\n",
      "Clive\n",
      "Kate\n",
      " Kate es amigo de:\n",
      "Hicks\n",
      "Devin\n",
      "Klein\n",
      " Klein es amigo de:\n",
      "Kate\n"
     ]
    }
   ],
   "source": [
    "for i in a_p_dict:\n",
    "    print(f' {usuarios[i][\"nombre\"]} es amigo de:')\n",
    "\n",
    "    for k in a_p_dict[i]:\n",
    "        print(usuarios[k]['nombre'])\n",
    "        "
   ]
  }
 ],
 "metadata": {
  "kernelspec": {
   "display_name": "Python 3",
   "language": "python",
   "name": "python3"
  },
  "language_info": {
   "codemirror_mode": {
    "name": "ipython",
    "version": 3
   },
   "file_extension": ".py",
   "mimetype": "text/x-python",
   "name": "python",
   "nbconvert_exporter": "python",
   "pygments_lexer": "ipython3",
   "version": "3.10.6 (tags/v3.10.6:9c7b4bd, Aug  1 2022, 21:53:49) [MSC v.1932 64 bit (AMD64)]"
  },
  "orig_nbformat": 4,
  "vscode": {
   "interpreter": {
    "hash": "369f2c481f4da34e4445cda3fffd2e751bd1c4d706f27375911949ba6bb62e1c"
   }
  }
 },
 "nbformat": 4,
 "nbformat_minor": 2
}
